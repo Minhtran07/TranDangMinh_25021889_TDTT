{
 "cells": [
  {
   "cell_type": "code",
   "execution_count": null,
   "id": "880b850d",
   "metadata": {},
   "outputs": [],
   "source": [
    "m,n = map(int, input().split())\n",
    "print(m//n)"
   ]
  },
  {
   "cell_type": "code",
   "execution_count": null,
   "id": "c21505e5",
   "metadata": {},
   "outputs": [],
   "source": [
    "import math\n",
    "x = float(input())\n",
    "y = float(input())\n",
    "print(math.ceil(x/y))"
   ]
  },
  {
   "cell_type": "code",
   "execution_count": null,
   "id": "50f1b91f",
   "metadata": {},
   "outputs": [],
   "source": [
    "x = int(input())\n",
    "if x  < 0:\n",
    "    print('nhap so nguyen duong')\n",
    "else:\n",
    "    if x % 2 == 0:\n",
    "        print(\"Even\")\n",
    "    else:\n",
    "        print(\"Odd\")\n"
   ]
  },
  {
   "cell_type": "code",
   "execution_count": null,
   "id": "44aa97fa",
   "metadata": {},
   "outputs": [],
   "source": [
    "a,b = map(int, input().split())\n",
    "if a<0 and b<0:\n",
    "    print(\"Yes\")\n",
    "elif a>=0 and b>=0:\n",
    "    print(\"No\")\n",
    "    "
   ]
  },
  {
   "cell_type": "code",
   "execution_count": null,
   "id": "5bd7619d",
   "metadata": {},
   "outputs": [],
   "source": [
    "a = input()\n",
    "b = input()\n",
    "if len(a) > len(b):\n",
    "    print (True)\n",
    "else:\n",
    "    print (False)"
   ]
  },
  {
   "cell_type": "code",
   "execution_count": null,
   "id": "07860e86",
   "metadata": {},
   "outputs": [],
   "source": [
    "a,b,c = map(int, input().split())\n",
    "if a + b > c and a + c > b and b + c > a:\n",
    "    print(\"Yes\")\n",
    "else:\n",
    "    print(\"No\")"
   ]
  },
  {
   "cell_type": "code",
   "execution_count": null,
   "id": "51a6cbb2",
   "metadata": {},
   "outputs": [],
   "source": [
    "a,b,c,d = map(float, input(\"nhap vao 4 so cach nhau boi dau cach: \").split())\n",
    "print(\"Gia tri lon nhat la: \", max(a,b,c,d))"
   ]
  },
  {
   "cell_type": "code",
   "execution_count": null,
   "id": "d02b210a",
   "metadata": {},
   "outputs": [],
   "source": [
    "a,b,c = map(float, input(\"nhap vao 3 canh tam giac cach nhau boi dau cach: \").split())\n",
    "if a <= 0 or b <= 0 or c <= 0:\n",
    "    print(\"khong phai 3 canh cua 1 tam giac\")\n",
    "elif a + b > c and a + c > b and b + c > a:\n",
    "    if a == b == c:\n",
    "        print(\"tam giac deu\")\n",
    "    elif a == b or a == c or b == c:\n",
    "        print(\"tam giac can\")\n",
    "    elif a**2 + b**2 == c**2 or a**2 + c**2 == b**2 or b**2 + c**2 == a**2:\n",
    "        print(\"tam giac vuong\")\n",
    "    chu_vi = a + b + c\n",
    "    p = chu_vi / 2\n",
    "    dien_tich = (p*(p-a)*(p-b)*(p-c))**0.5\n",
    "    print(f\"chu vi tam giac la {chu_vi}\")\n",
    "    print(f\"dien tich tam giac la {dien_tich}\")"
   ]
  },
  {
   "cell_type": "code",
   "execution_count": null,
   "id": "8994d9ce",
   "metadata": {},
   "outputs": [],
   "source": [
    "n = int(input())\n",
    "if n % 4 == 0 and (n % 100 != 0 or n % 400 == 0):\n",
    "    print(\"Yes\")\n",
    "else:\n",
    "    print(\"No\")"
   ]
  },
  {
   "cell_type": "code",
   "execution_count": null,
   "id": "9384dca7",
   "metadata": {},
   "outputs": [],
   "source": [
    "a = float(input(\"nhap a: \"))\n",
    "b = float(input(\"nhap b: \"))\n",
    "if a ==0:\n",
    "    if b == 0:\n",
    "        print(\"phuong trinh vo so nghiem\")\n",
    "    else:\n",
    "        print(\"phuong trinh vo nghiem\")\n",
    "if a != 0:\n",
    "    x = -b/a\n",
    "    print(f\"phuong trinh co nghiem x = {x}\")"
   ]
  },
  {
   "cell_type": "code",
   "execution_count": null,
   "id": "cf61de11",
   "metadata": {},
   "outputs": [],
   "source": [
    "diem_tb = float(input(\"nhap diem trung binh: \"))\n",
    "if diem_tb < 0 or diem_tb > 10:\n",
    "    print(\"diem trung binh khong hop le\")\n",
    "elif diem_tb < 5:\n",
    "    print(\"yeu\")\n",
    "elif diem_tb <= 6.5:\n",
    "    print(\"trung binh\")\n",
    "elif diem_tb < 8:\n",
    "    print(\"kha\")\n",
    "else:\n",
    "    print(\"gioi\")"
   ]
  },
  {
   "cell_type": "code",
   "execution_count": null,
   "id": "87097751",
   "metadata": {},
   "outputs": [],
   "source": [
    "def lam_tron_toi_uu():\n",
    "    x = float(input(\"Nhập vào một số thực: \"))\n",
    "    \n",
    "    # Lấy phần nguyên\n",
    "    phan_nguyen = int(x)\n",
    "    \n",
    "    # Lấy phần thập phân (giá trị tuyệt đối)\n",
    "    phan_thap_phan = abs(x - phan_nguyen)\n",
    "    \n",
    "    # Làm tròn xuống\n",
    "    if x >= 0:\n",
    "        lam_tron_xuong = phan_nguyen\n",
    "    else:\n",
    "        lam_tron_xuong = phan_nguyen if phan_thap_phan == 0 else phan_nguyen - 1\n",
    "    \n",
    "    # Làm tròn lên\n",
    "    if x >= 0:\n",
    "        lam_tron_len = phan_nguyen if phan_thap_phan == 0 else phan_nguyen + 1\n",
    "    else:\n",
    "        lam_tron_len = phan_nguyen\n",
    "    \n",
    "    # Làm tròn gần nhất\n",
    "    if x >= 0:\n",
    "        lam_tron_gan_nhat = phan_nguyen + 1 if phan_thap_phan >= 0.5 else phan_nguyen\n",
    "    else:\n",
    "        lam_tron_gan_nhat = phan_nguyen - 1 if phan_thap_phan >= 0.5 else phan_nguyen\n",
    "    \n",
    "    print(f\"{lam_tron_len} {lam_tron_xuong} {lam_tron_gan_nhat}\")\n",
    "\n",
    "# Chạy chương trình tối ưu\n",
    "lam_tron_toi_uu()"
   ]
  },
  {
   "cell_type": "code",
   "execution_count": null,
   "id": "a8b021c4",
   "metadata": {},
   "outputs": [],
   "source": [
    "'''\n",
    "Cấp số nhân\n",
    "Cho 4 số a, b, c, d. Hãy kiểm tra xem 4 số này có thể theo thứ tự tạo thành 1\n",
    "cấp số nhân với công bội nguyên theo đúng thứ tự a, b, c, d hay không?\n",
    "Gợi ý : Tìm công bội (b / a) nếu b chia hết cho a, sau đó lấy b nhân công bội\n",
    "và so sánh vs c, c nhân công bội và so sánh vs d\n",
    "'''\n",
    "\n",
    "\n",
    "a,b,c,d = map(float, input(\"nhap vao 4 so cach nhau boi dau cach: \").split())\n",
    "if a == 0:\n",
    "    if b == 0 and c == 0 and d == 0:\n",
    "        print(\"Yes\")\n",
    "    else:\n",
    "        print(\"No\")\n",
    "elif b % a == 0:\n",
    "    cong_boi = b / a\n",
    "    if b * cong_boi == c and c * cong_boi == d:\n",
    "        print(\"Yes\")\n",
    "    else:\n",
    "        print(\"No\")\n",
    "else:\n",
    "    print(\"No\")\n",
    "    "
   ]
  }
 ],
 "metadata": {
  "kernelspec": {
   "display_name": ".venv",
   "language": "python",
   "name": "python3"
  },
  "language_info": {
   "name": "python",
   "version": "3.13.7"
  }
 },
 "nbformat": 4,
 "nbformat_minor": 5
}
