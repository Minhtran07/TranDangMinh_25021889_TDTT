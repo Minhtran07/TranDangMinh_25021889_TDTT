{
 "cells": [
  {
   "cell_type": "code",
   "execution_count": null,
   "id": "91dcdf87",
   "metadata": {},
   "outputs": [],
   "source": [
    "chieu_dai = int(input())\n",
    "chieu_rong = int(input())\n",
    "\n",
    "dien_tich = chieu_dai * chieu_rong\n",
    "chu_vi = 2*(chieu_rong + chieu_dai)\n",
    "print(f\"dien tich hcn la {dien_tich}\")\n",
    "print(f\"chu vi hcn la {chu_vi}\")"
   ]
  },
  {
   "cell_type": "code",
   "execution_count": null,
   "id": "2cbbe2f2",
   "metadata": {},
   "outputs": [],
   "source": [
    "r = int(input(\"nhap vao ban kinh hinh tron\"))\n",
    "dien_tich = r**2 * 3.14\n",
    "chu_vi = 2*3.14*r\n",
    "\n",
    "print(dien_tich)\n",
    "print(chu_vi)"
   ]
  },
  {
   "cell_type": "code",
   "execution_count": 2,
   "id": "bfc6835e",
   "metadata": {},
   "outputs": [
    {
     "name": "stdout",
     "output_type": "stream",
     "text": [
      "do dai canh phai lon hon 0\n"
     ]
    }
   ],
   "source": [
    "a,b,c = map(float, input(\"nhap vao 3 canh tam giac cach nhau boi dau cach: \").split())\n",
    "if a <= 0 or b <= 0 or c <= 0:\n",
    "    print(\"khong phai 3 canh cua 1 tam giac\")\n",
    "elif a + b > c and a + c > b and b + c > a:\n",
    "    if a == b == c:\n",
    "        print(\"tam giac deu\")\n",
    "    elif a == b or a == c or b == c:\n",
    "        print(\"tam giac can\")\n",
    "    elif a**2 + b**2 == c**2 or a**2 + c**2 == b**2 or b**2 + c**2 == a**2:\n",
    "        print(\"tam giac vuong\")\n",
    "    chu_vi = a + b + c\n",
    "    p = chu_vi / 2\n",
    "    dien_tich = (p*(p-a)*(p-b)*(p-c))**0.5\n",
    "    print(f\"chu vi tam giac la {chu_vi}\")\n",
    "    print(f\"dien tich tam giac la {dien_tich}\")"
   ]
  },
  {
   "cell_type": "code",
   "execution_count": null,
   "id": "1e36b6d3",
   "metadata": {},
   "outputs": [],
   "source": [
    "#bai 4:Viết chương trình giải phương trình bậc 1 (ax + b = 0)\n",
    "a = float(input(\"nhap a: \"))\n",
    "b = float(input(\"nhap b: \"))\n",
    "if a ==0:\n",
    "    if b == 0:\n",
    "        print(\"phuong trinh vo so nghiem\")\n",
    "    else:\n",
    "        print(\"phuong trinh vo nghiem\")\n",
    "if a != 0:\n",
    "    x = -b/a\n",
    "    print(f\"phuong trinh co nghiem x = {x}\")"
   ]
  },
  {
   "cell_type": "code",
   "execution_count": null,
   "id": "f11c8cca",
   "metadata": {},
   "outputs": [],
   "source": [
    "# bai 5: Viết chương trình giải phương trình bậc 2 (ax^2 + bx + c = 0)\n",
    "a = float(input(\"nhap a: \"))\n",
    "b = float(input(\"nhap b: \"))\n",
    "c = float(input(\"nhap c: \"))\n",
    "if a == 0:\n",
    "    if b == 0:\n",
    "        if c == 0:\n",
    "            print(\"phuong trinh vo so nghiem\")\n",
    "        else:\n",
    "            print(\"phuong trinh vo nghiem\")\n",
    "    else:\n",
    "        x = -c/b\n",
    "        print(f\"phuong trinh co nghiem x = {x}\")    \n",
    "if a != 0:\n",
    "    delta = b**2 - 4*a*c\n",
    "    if delta < 0:\n",
    "        print(\"phuong trinh vo nghiem\")\n",
    "    elif delta == 0:\n",
    "        x = -b/(2*a)\n",
    "        print(f\"phuong trinh co nghiem kep x1 = x2 = {x}\")\n",
    "    else:\n",
    "        x1 = (-b + delta**0.5)/(2*a)\n",
    "        x2 = (-b - delta**0.5)/(2*a)\n",
    "        print(f\"phuong trinh co 2 nghiem phan biet x1 = {x1}, x2 = {x2}\")"
   ]
  },
  {
   "cell_type": "code",
   "execution_count": null,
   "id": "1964b716",
   "metadata": {},
   "outputs": [],
   "source": [
    "#bai6: Tìm giá trị lớn nhất trong 4 số a, b, c, d (a, b, c, được nhập từ bàn phím).\n",
    "a,b,c,d = map(float, input(\"nhap vao 4 so cach nhau boi dau cach: \").split())\n",
    "print(f\"so lon nhat trong 4 so la {max(a,b,c,d)}\")"
   ]
  },
  {
   "cell_type": "code",
   "execution_count": null,
   "id": "644b2bd5",
   "metadata": {},
   "outputs": [],
   "source": [
    "#bai7: Tìm giá trị nhỏ nhất trong 4 số a, b, c, d (a, b, c, được nhập từ bàn phím\n",
    "a,b,c,d = map(float, input(\"nhap vao 4 so cach nhau boi dau cach: \").split())\n",
    "print(f\"so nho nhat trong 4 so la {min(a,b,c,d)}\")"
   ]
  },
  {
   "cell_type": "code",
   "execution_count": 13,
   "id": "2371b70a",
   "metadata": {},
   "outputs": [
    {
     "name": "stdout",
     "output_type": "stream",
     "text": [
      "Sử dụng công thức Cramer:\n",
      "Hệ có vô số nghiệm\n",
      "Hệ có vô số nghiệm\n",
      "Hệ vô nghiệm\n"
     ]
    }
   ],
   "source": [
    "'''\n",
    "bai8: giai he phuong trinh tuyen tinh 2 an\n",
    "ax + by = m\n",
    "cx + dy = n\n",
    "'''\n",
    "def giai_he_cramer(a, b, c, d, m, n):\n",
    "    \"\"\"\n",
    "    Giải hệ phương trình bằng công thức Cramer\n",
    "    \"\"\"\n",
    "    # Tính định thức\n",
    "    D = a*d - b*c\n",
    "    Dx = m*d - b*n\n",
    "    Dy = a*n - m*c\n",
    "    \n",
    "    if D != 0:\n",
    "        x = Dx / D\n",
    "        y = Dy / D\n",
    "        return f\"Nghiệm của hệ: x = {x:.2f}, y = {y:.2f}\"\n",
    "    else:\n",
    "        if Dx == 0 and Dy == 0:\n",
    "            return \"Hệ có vô số nghiệm\"\n",
    "        else:\n",
    "            return \"Hệ vô nghiệm\"\n",
    "\n",
    "# Ví dụ sử dụng\n",
    "print(\"Sử dụng công thức Cramer:\")\n",
    "print(giai_he_cramer(0, 0, 0, 0, 2, 3))\n",
    "print(giai_he_cramer(1, 2, 2, 4, 3, 6))    # Vô số nghiệm\n",
    "print(giai_he_cramer(1, 2, 2, 4, 3, 7))    # Vô nghiệm\n",
    "\n"
   ]
  },
  {
   "cell_type": "code",
   "execution_count": 6,
   "id": "c414b8f4",
   "metadata": {},
   "outputs": [
    {
     "name": "stdout",
     "output_type": "stream",
     "text": [
      "162683192 giay = 45189 gio, 46 phut, 32 giay\n"
     ]
    }
   ],
   "source": [
    "''' \n",
    "Bài 9: Nhập vào thời gian 1 công việc nào đó là x giây. Hãy chuyển đổi và viết\n",
    "ra màn hình số thời gian trên dưới dạng bằng bao nhiêu giờ, bao nhiêu phút, bao\n",
    "nhiêu giây.\n",
    "'''\n",
    "\n",
    "x = int(input(\"nhap vao so giay: \"))\n",
    "gio = x // 3600\n",
    "phut = (x % 3600) // 60\n",
    "giay = x % 60\n",
    "print(f\"{x} giay = {gio} gio, {phut} phut, {giay} giay\")"
   ]
  },
  {
   "cell_type": "code",
   "execution_count": null,
   "id": "9f7c361e",
   "metadata": {},
   "outputs": [],
   "source": [
    "'''\n",
    "Bài 10: Nhập vào tâm và bán kính của một đường tròn. Sau đó nhập vào một\n",
    "điểm A(x, y) bất kì và kiểm tra xem nó có thuộc đường tròn hay không?\n",
    "'''\n",
    "x0, y0, r = map(float, input(\"nhap vao tam (x0,y0) va ban kinh r cach nhau boi dau cach: \").split())\n",
    "x, y = map(float, input(\"nhap vao diem A(x,y) cach nhau boi dau cach: \").split())\n",
    "if (x - x0)**2 + (y - y0)**2 <= r**2:\n",
    "    print(\"diem A nam thuoc duong tron\") \n",
    "else:\n",
    "    print(\"diem A khong nam thuoc duong tron\")"
   ]
  },
  {
   "cell_type": "code",
   "execution_count": 8,
   "id": "e50419f7",
   "metadata": {},
   "outputs": [
    {
     "name": "stdout",
     "output_type": "stream",
     "text": [
      "2187.0\n"
     ]
    }
   ],
   "source": [
    "x,y = map(float, input().split())\n",
    "print (x**y)"
   ]
  }
 ],
 "metadata": {
  "kernelspec": {
   "display_name": ".venv",
   "language": "python",
   "name": "python3"
  },
  "language_info": {
   "codemirror_mode": {
    "name": "ipython",
    "version": 3
   },
   "file_extension": ".py",
   "mimetype": "text/x-python",
   "name": "python",
   "nbconvert_exporter": "python",
   "pygments_lexer": "ipython3",
   "version": "3.13.7"
  }
 },
 "nbformat": 4,
 "nbformat_minor": 5
}
