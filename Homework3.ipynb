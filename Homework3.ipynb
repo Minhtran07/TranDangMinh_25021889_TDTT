{
 "cells": [
  {
   "cell_type": "code",
   "execution_count": null,
   "id": "8010341b",
   "metadata": {},
   "outputs": [],
   "source": [
    "for i in range(1,101,2):\n",
    "    print (i)"
   ]
  },
  {
   "cell_type": "code",
   "execution_count": null,
   "id": "f07168d3",
   "metadata": {},
   "outputs": [],
   "source": [
    "#Bài 2: In các số dương chẵn chia hết cho 3 bé hơn 100\n",
    "for i in range(1,101,6):\n",
    "    print(i)"
   ]
  },
  {
   "cell_type": "code",
   "execution_count": null,
   "id": "e9513887",
   "metadata": {},
   "outputs": [],
   "source": [
    "# Bài 3: Nhập vào số nguyên dương a, in ra bảng cửu chương của a\n",
    "a = int(input(\"Nhập số nguyên dương a: \"))\n",
    "for i in range(1,11):\n",
    "    print(f\"{a} x {i} = {a*i}\")\n"
   ]
  },
  {
   "cell_type": "code",
   "execution_count": 6,
   "id": "cfc1aa9c",
   "metadata": {},
   "outputs": [
    {
     "name": "stdout",
     "output_type": "stream",
     "text": [
      "    *\n",
      "   * *\n",
      "  *   *\n",
      " *     *\n",
      "*********\n"
     ]
    }
   ],
   "source": [
    "# Bài 4: Viết chương trình in ra hình tam giác cân có độ cao h được nhập từ bàn phím\n",
    "\"\"\"\n",
    "h = 4\n",
    "   *\n",
    "  * *\n",
    " *   *\n",
    "*******\n",
    "\"\"\"\n",
    "h = int(input(\"Nhập độ cao h: \"))\n",
    "for i in range(1,h):\n",
    "    print(\" \"*(h-i) + \"*\" + \" \"*(2*i-3) + (\"*\" if i>1 else \"\"))\n",
    "for i in range(2*h-1):\n",
    "    print(\"*\", end=\"\")\n",
    "print()"
   ]
  },
  {
   "cell_type": "code",
   "execution_count": 7,
   "id": "08f81771",
   "metadata": {},
   "outputs": [
    {
     "name": "stdout",
     "output_type": "stream",
     "text": [
      "15\n"
     ]
    }
   ],
   "source": [
    "# Bài 5: Nhập vào số nguyên dương n. Tính S = 1 + 2 + 3 + 4 + … + n\n",
    "\n",
    "S = 0\n",
    "n = int(input(\"nhap vao so nguyen duong n\"))\n",
    "for i in range(1,n+1):\n",
    "    S += i\n",
    "print(S)"
   ]
  },
  {
   "cell_type": "code",
   "execution_count": 8,
   "id": "bfacc77f",
   "metadata": {},
   "outputs": [
    {
     "name": "stdout",
     "output_type": "stream",
     "text": [
      "1\n",
      "3\n",
      "5\n",
      "15\n"
     ]
    }
   ],
   "source": [
    "# Bài 6: Nhập vào số nguyên dương a, in ra tất cả các ước dương của a\n",
    "a = int(input(\"nhap vao so nguyen duong a\"))\n",
    "for i in range(1, a+1):\n",
    "    if a % i == 0:\n",
    "        print(i)"
   ]
  },
  {
   "cell_type": "code",
   "execution_count": 9,
   "id": "71d16fc5",
   "metadata": {},
   "outputs": [
    {
     "name": "stdout",
     "output_type": "stream",
     "text": [
      "4\n"
     ]
    }
   ],
   "source": [
    "# Bài 7: Nhập vào số nguyên dương a, đếm số ước dương của a\n",
    "count = 0 \n",
    "a = int(input(\"nhap vao so nguyen duong a\"))\n",
    "for i in range(1,a+1):\n",
    "    if a%i==0:\n",
    "        count += 1\n",
    "print(count)"
   ]
  },
  {
   "cell_type": "code",
   "execution_count": 29,
   "id": "c6812dc9",
   "metadata": {},
   "outputs": [
    {
     "name": "stdout",
     "output_type": "stream",
     "text": [
      "1\n",
      "3\n"
     ]
    }
   ],
   "source": [
    "# Bài 8: Nhập vào số nguyên dương a và b, in toàn bộ ước dương chung của a và b\n",
    "\n",
    "a,b = map(int, input().split())\n",
    "for i in range(1, min(a,b)+1):\n",
    "    if a%i==0 and b%i==0:\n",
    "        print(i)"
   ]
  },
  {
   "cell_type": "code",
   "execution_count": 15,
   "id": "707e6b2e",
   "metadata": {},
   "outputs": [
    {
     "name": "stdout",
     "output_type": "stream",
     "text": [
      "a la so chinh phuong\n"
     ]
    }
   ],
   "source": [
    "\"\"\"Bài 9: Nhập vào số nguyên dương a, kiểm tra xem a có phải là số chính phương hay\n",
    "không? Số chính phương là số có căn bậc hai là một số nguyên VD: 1, 4, 9, 16, 25….\"\"\"\n",
    "\n",
    "a = int(input(\"nhap vao so nguyen duong a\"))\n",
    "for i in range (1,a+1):\n",
    "    if a == i*i:\n",
    "        print(\"a la so chinh phuong\")\n",
    "    "
   ]
  },
  {
   "cell_type": "code",
   "execution_count": 20,
   "id": "5242adb4",
   "metadata": {},
   "outputs": [
    {
     "name": "stdout",
     "output_type": "stream",
     "text": [
      "a la so hoan hao\n"
     ]
    }
   ],
   "source": [
    "\"\"\"Bài 10: Nhập vào số nguyên dương a, kiểm tra xem a có phải là số hoàn hảo hay không.\n",
    "Số hoàn hảo là số có tổng các ước (ước nhỏ hơn nó) bằng chính nó, VD: số 6, 28…\"\"\"\n",
    "\n",
    "a = int(input(\"nhap vao so nguyen duong a\"))\n",
    "sum = 0 \n",
    "for i in range (1,a):\n",
    "    if a % i == 0 :\n",
    "        sum += i\n",
    "if sum == a:\n",
    "    print(\"a la so hoan hao\")\n",
    "else:\n",
    "    print(\"a khong phai la so hoan hao\")"
   ]
  },
  {
   "cell_type": "code",
   "execution_count": null,
   "id": "85fcc9f4",
   "metadata": {},
   "outputs": [],
   "source": [
    "\"\"\"Bài 11: Nhập vào số nguyên a, nếu nhập số âm thì yêu cầu nhập lại cho đến khi người\n",
    "dùng nhập đúng số dương. Nếu người dùng nhập đúng số dương thì in ra “Bạn nhập\n",
    "đúng quy tắc” và dừng chương trình.\"\"\"\n",
    "\n",
    "while True:\n",
    "    a = int(input(\"nhap vao so nguyen a\"))\n",
    "    if a > 0:\n",
    "        print(\"Ban nhap dung quy tac\")\n",
    "        break"
   ]
  },
  {
   "cell_type": "code",
   "execution_count": null,
   "id": "b5f62f6a",
   "metadata": {},
   "outputs": [],
   "source": [
    "\"\"\"Bài 12: Nhập số nguyên dương n, Cho S(k) = 1 + 2 + 3 + … + k. Tìm k sao cho S(k)\n",
    "lớn nhất nhưng nhỏ hơn n\"\"\"\n",
    "n = int(input(\"nhap vao so nguyen duong n\"))\n",
    "S = 0\n",
    "k = 0\n",
    "while S + k + 1 < n:\n",
    "    k += 1\n",
    "    S += k\n",
    "print(k)"
   ]
  },
  {
   "cell_type": "code",
   "execution_count": 25,
   "id": "bb16dadb",
   "metadata": {},
   "outputs": [
    {
     "name": "stdout",
     "output_type": "stream",
     "text": [
      "31\n"
     ]
    }
   ],
   "source": [
    "\"\"\"Bài 13: Nhập vào số nguyên dương A, tìm n nhỏ nhất sao cho\n",
    "1 + 1/2 + 1/3 + 1/4 + ... + 1/n > A\"\"\"\n",
    "\n",
    "A = int(input(\"nhap vao so nguyen duong A\"))\n",
    "n = 1\n",
    "s = 0\n",
    "while s <= A:\n",
    "    s += 1/n\n",
    "    n += 1\n",
    "print(n-1)\n"
   ]
  },
  {
   "cell_type": "code",
   "execution_count": null,
   "id": "f6dc186f",
   "metadata": {},
   "outputs": [],
   "source": [
    "\"\"\"Bài 14: Nhập vào một dãy số nguyên, dừng nhập khi người dùng nhập -1. Sau khi nhập\n",
    "xong, in số lớn nhất, số nhỏ nhất trong những số vừa nhập. KHÔNG ĐƯỢC dùng mảng\"\"\"\n",
    "\n",
    "\n",
    "while True:\n",
    "    a = int(input(\"nhap vao so nguyen a\"))\n",
    "    if a == -1:\n",
    "        break\n",
    "    if 'max' not in locals() or a > max:\n",
    "        max = a\n",
    "    if 'min' not in locals() or a < min:\n",
    "        min = a\n",
    "print(\"So lon nhat la:\", max)\n",
    "print(\"So nho nhat la:\", min)"
   ]
  },
  {
   "cell_type": "code",
   "execution_count": null,
   "id": "50509cf8",
   "metadata": {},
   "outputs": [],
   "source": [
    "\"\"\"Bài 15: Nhập vào số nguyên dương n, đếm xem n có bao nhiêu chữ số. Làm bằng nhiều\n",
    "cách nhất có thể, ko dùng mảng.\"\"\"\n",
    "n = int(input(\"nhap vao so nguyen duong n\"))\n",
    "count = 0\n",
    "while n > 0:\n",
    "    n //= 10\n",
    "    count += 1\n",
    "print(count)\n"
   ]
  },
  {
   "cell_type": "code",
   "execution_count": 27,
   "id": "d55e635f",
   "metadata": {},
   "outputs": [
    {
     "name": "stdout",
     "output_type": "stream",
     "text": [
      "So chu so chan: 2\n",
      "So chu so le: 2\n"
     ]
    }
   ],
   "source": [
    "\"\"\"Bài 16: Nhập vào số nguyên dương n, đếm xem n có bao nhiêu chữ số chẵn, bao nhiêu\n",
    "chữ số lẻ\"\"\"\n",
    "n = int(input(\"nhap vao so nguyen duong n\"))\n",
    "even_count = 0\n",
    "odd_count = 0\n",
    "while n > 0:\n",
    "    digit = n % 10\n",
    "    if digit % 2 == 0:\n",
    "        even_count += 1\n",
    "    else:\n",
    "        odd_count += 1\n",
    "    n //= 10\n",
    "print(\"So chu so chan:\", even_count)     \n",
    "print(\"So chu so le:\", odd_count)   "
   ]
  },
  {
   "cell_type": "code",
   "execution_count": null,
   "id": "d9a9411b",
   "metadata": {},
   "outputs": [],
   "source": [
    "\"\"\"Bài 17: Nhập vào số nguyên dương n, tính tổng các chữ số của n\"\"\"\n",
    "n = int(input(\"nhap vao so nguyen duong n\"))\n",
    "sum = 0\n",
    "while n > 0:\n",
    "    sum += n % 10\n",
    "    n //= 10\n",
    "print(sum)"
   ]
  },
  {
   "cell_type": "code",
   "execution_count": 28,
   "id": "19757b03",
   "metadata": {},
   "outputs": [
    {
     "name": "stdout",
     "output_type": "stream",
     "text": [
      "n khong phai la so dang 3^k\n"
     ]
    }
   ],
   "source": [
    "\"\"\"Bài 18: Nhập vào một số nguyên dương n, kiểm tra xem n có phải là số dạng 3^k hay\n",
    "không\"\"\"\n",
    "n = int(input(\"nhap vao so nguyen duong n\"))\n",
    "while n > 1:\n",
    "    if n % 3 != 0:\n",
    "        print(\"n khong phai la so dang 3^k\")\n",
    "        break\n",
    "    n //= 3\n",
    "else:\n",
    "    print(\"n la so dang 3^k\")"
   ]
  },
  {
   "cell_type": "code",
   "execution_count": null,
   "id": "a34df9dd",
   "metadata": {},
   "outputs": [],
   "source": [
    "\"\"\"Bài 19: Dãy số fibonacci là dãy số được định nghĩa như sau: 1, 1, 2, 3, 5, 8, 13,... với số\n",
    "kế tiếp sẽ bằng tổng hai số trước đó. Nhập vào số nguyên dương A, hãy tìm số trong\n",
    "dãy số fibonacci lớn nhất nhưng không vượt quá A\"\"\"\n",
    "A = int(input(\"nhap vao so nguyen duong A\"))\n",
    "a, b = 1, 1\n",
    "while b <= A:\n",
    "    a, b = b, a + b\n",
    "print(a)\n"
   ]
  },
  {
   "cell_type": "code",
   "execution_count": null,
   "id": "85487d2c",
   "metadata": {},
   "outputs": [],
   "source": [
    "\"\"\"Bài 20: Nhập vào số nguyên dương n, đếm xem n có bao nhiêu chữ số là số nguyên tố.\"\"\"\n",
    "n = int(input(\"nhap vao so nguyen duong n\"))\n",
    "prime_count = 0\n",
    "while n > 0:\n",
    "    digit = n % 10\n",
    "    if digit > 1:  # Số nguyên tố nhỏ nhất là 2\n",
    "        for i in range(2, int(digit**0.5) + 1):\n",
    "            if digit % i == 0:\n",
    "                break\n",
    "        else:\n",
    "            prime_count += 1\n",
    "    n //= 10\n",
    "print(\"So chu so la so nguyen to:\", prime_count)"
   ]
  }
 ],
 "metadata": {
  "kernelspec": {
   "display_name": ".venv",
   "language": "python",
   "name": "python3"
  },
  "language_info": {
   "codemirror_mode": {
    "name": "ipython",
    "version": 3
   },
   "file_extension": ".py",
   "mimetype": "text/x-python",
   "name": "python",
   "nbconvert_exporter": "python",
   "pygments_lexer": "ipython3",
   "version": "3.13.7"
  }
 },
 "nbformat": 4,
 "nbformat_minor": 5
}
