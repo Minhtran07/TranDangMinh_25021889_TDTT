{
 "cells": [
  {
   "cell_type": "code",
   "execution_count": 54,
   "id": "64575c6a",
   "metadata": {},
   "outputs": [
    {
     "name": "stdout",
     "output_type": "stream",
     "text": [
      "55\n"
     ]
    }
   ],
   "source": [
    "# #Viết chương trình Python sử dụng một trong 2 loại vòng lặp for hoặc while để\n",
    "# tính tống các số nguyên từ 1 đến n. (n <= 1000)\n",
    "\n",
    "n = int(input(\"nhap vao so nguyen duong n\"))\n",
    "sum = 0\n",
    "while n > 0:\n",
    "    sum += n\n",
    "    n -= 1\n",
    "print(sum)\n"
   ]
  },
  {
   "cell_type": "code",
   "execution_count": 6,
   "id": "e37dc15f",
   "metadata": {},
   "outputs": [
    {
     "name": "stdout",
     "output_type": "stream",
     "text": [
      "a la so nguyen to\n"
     ]
    }
   ],
   "source": [
    "# VIết chương trình nhập vào một số tới khi được một số nguyên dương thì thôi.\n",
    "# Kiểm tra số này có phải là số nguyên tố hay không?\n",
    "while True:\n",
    "    a = int(input(\"nhap vao so nguyen a\"))\n",
    "    flag = True if a > 1 else False\n",
    "    if a < 0:\n",
    "        continue\n",
    "    else:\n",
    "        \n",
    "        for i in range(2, int(a**0.5) + 1):\n",
    "            if a % i == 0:\n",
    "                flag = False\n",
    "                break\n",
    "        if flag:\n",
    "            print(\"a la so nguyen to\")\n",
    "            break\n",
    "        else:\n",
    "            print(\"a khong phai la so nguyen to\")\n",
    "            break\n",
    "       "
   ]
  },
  {
   "cell_type": "code",
   "execution_count": null,
   "id": "8f984896",
   "metadata": {},
   "outputs": [],
   "source": [
    "# Viết chương trình nhập vào một số nguyên n và in ra màn hình số chữ số (trừ dấu)\n",
    "# của số đó. Không dùng kiểu dữ liệu string.\n",
    "\n",
    "n = int(input(\"nhap vao so nguyen n\"))\n",
    "count = 0\n",
    "if n < 0:\n",
    "    n = -n\n",
    "if n == 0:\n",
    "    count = 1\n",
    "while n > 0:\n",
    "    n //= 10\n",
    "    count += 1\n",
    "print(count)"
   ]
  },
  {
   "cell_type": "code",
   "execution_count": null,
   "id": "cb043e86",
   "metadata": {},
   "outputs": [
    {
     "name": "stdout",
     "output_type": "stream",
     "text": [
      "I've found the meaning of life!\n"
     ]
    }
   ],
   "source": [
    "# Hãy viết một chương trình nhận vào một số nguyên dương n và một dãy gồm n số\n",
    "# nguyên. Nếu n số nguyên đó có số 42 thì in ra màn hình dòng chữ \"I′ve found the\n",
    "# meaning of life!\", ngược lại in ra dòng chữ \"It′s a joke!\".\n",
    "n = int(input(\"nhap vao so nguyen duong n\"))\n",
    "numbers = []\n",
    "for i in range (1,n+1):\n",
    "    numbers.append(i)\n",
    "if 42 in numbers:\n",
    "    print(\"I've found the meaning of life!\")\n",
    "else:\n",
    "    print(\"It's a joke!\")\n"
   ]
  },
  {
   "cell_type": "code",
   "execution_count": null,
   "id": "94ea426c",
   "metadata": {},
   "outputs": [
    {
     "name": "stdout",
     "output_type": "stream",
     "text": [
      "26\n"
     ]
    }
   ],
   "source": [
    "\"\"\"[SumPrimesInRange]\n",
    "Nhập hai số nguyên dương a, b (a ≤ b). Hãy tính tổng các số nguyên tố trong đoạn\n",
    "[a, b]. Mỗi dòng là một bộ test (a b).\"\"\"\n",
    "\n",
    "a,b = map(int, input().split())\n",
    "sum = 0 \n",
    "if b-a < 0:\n",
    "    print(\"a phai nho hon hoac bang b\")\n",
    "else:\n",
    "    for num in range(a, b+1):  \n",
    "        for i in range(2, int(num**0.5) + 1):\n",
    "            if (num % i) == 0:\n",
    "                break\n",
    "        else:\n",
    "            sum += num\n",
    "    print(sum)"
   ]
  },
  {
   "cell_type": "code",
   "execution_count": null,
   "id": "1443f59a",
   "metadata": {},
   "outputs": [
    {
     "name": "stdout",
     "output_type": "stream",
     "text": [
      "3\n"
     ]
    }
   ],
   "source": [
    "# \"[LargestPrimeFactor]\n",
    "# Nhập vào số nguyên dương n (n ≥ 2). Hãy in ra ước số nguyên tố lớn nhất của n.\"\n",
    "\n",
    "n = int(input(\"nhap vao so nguyen duong n\"))\n",
    "i = 2\n",
    "while i <= n:\n",
    "    if n % i == 0:\n",
    "        n //= i\n",
    "    else:\n",
    "        i += 1\n",
    "print(i)\n",
    "\n",
    "n = int(input(\"nhap vao so nguyen duong n\"))\n",
    "\n",
    "for i in range(2, n+1):\n",
    "    if n % i == 0:\n",
    "        n //= i\n",
    "        if n == 1:\n",
    "            print(i)\n",
    "            break\n",
    "        else:\n",
    "            i = 2"
   ]
  },
  {
   "cell_type": "code",
   "execution_count": null,
   "id": "9ff3acde",
   "metadata": {},
   "outputs": [],
   "source": [
    "#ReverseAddPalindrome]\n",
    "# Nhập số nguyên dương n. Lặp lại phép toán n = n + reverse(n) cho đến khi n là số\n",
    "# đối xứng (palindrome). In ra số bước và giá trị palindrome thu được.\n",
    "\n",
    "n = int(input(\"nhap vao so nguyen duong n\"))\n"
   ]
  },
  {
   "cell_type": "code",
   "execution_count": null,
   "id": "3fa9beb1",
   "metadata": {},
   "outputs": [
    {
     "name": "stdout",
     "output_type": "stream",
     "text": [
      "1 4 9 16 25 "
     ]
    }
   ],
   "source": [
    "\"\"\"[PerfectSquaresDistinctDigits]\n",
    "Nhập vào số nguyên dương n. In ra tất cả các số chính phương ≤ n có các chữ số\n",
    "đôi một khác nhau (in theo thứ tự tăng dần, cùng hàng, cách nhau bởi một dấu\n",
    "cách). Nếu không có, in ra (no number).\"\"\"\n",
    "n = int(input(\"nhap vao so nguyen duong n\"))\n",
    "for i in range(1, n+1):\n",
    "    square = i * i\n",
    "    if square <= n:\n",
    "        print(square, end=' ')\n",
    "    else:\n",
    "        break\n"
   ]
  },
  {
   "cell_type": "code",
   "execution_count": 48,
   "id": "94e2ab4d",
   "metadata": {},
   "outputs": [
    {
     "name": "stdout",
     "output_type": "stream",
     "text": [
      "60\n"
     ]
    }
   ],
   "source": [
    "# Viết chương trình đếm số lượng ước số chẵn của số nguyên dương n với n < 10^6.\n",
    "n = int(input(\"nhap vao so nguyen duong n\"))\n",
    "count = 0\n",
    "while n > 0:\n",
    "    if n % 2 == 0:\n",
    "        count += 1\n",
    "    n -= 1\n",
    "print(count)"
   ]
  },
  {
   "cell_type": "code",
   "execution_count": null,
   "id": "24af5191",
   "metadata": {},
   "outputs": [],
   "source": [
    "# Một người có tài khoản tiết kiệm ở ngân hàng và gửi vào X đồng với lãi suất là\n",
    "# 0.7% mỗi tháng. Viết chương trình tính số tiền sau N tháng người ấy rút được (cả\n",
    "# gốc và lãi, bỏ qua phần lẻ thập phân).\n",
    "\n",
    "X = int(input(\"nhap vao so tien gui X\"))\n",
    "N = int(input(\"nhap vao so thang gui N\"))\n",
    "for i in range(N):\n",
    "    X += X * 0.007\n",
    "print(int(X))"
   ]
  },
  {
   "cell_type": "code",
   "execution_count": null,
   "id": "1f5b69a3",
   "metadata": {},
   "outputs": [],
   "source": [
    "\"\"\"[ClosePairNumber]\n",
    "Hai số nguyên dương tạo thành một cặp số thân thiết khi chúng tuân theo quy luật:\n",
    "Số này bằng tổng tất cả các ước của số kia (trừ chính nó) và ngược lại.\n",
    "Ví dụ 220 và 284 là một cặp số thân thiết\n",
    "220 ngoài chính nó ra, nó còn có 11 ước số khác là: 1, 2, 4, 5, 10, 11, 20, 44, 55,\n",
    "110. Tổng của 11 ước này cho chúng ta 284\n",
    "284 ngoài bản thân nó, còn có 5 ước số khác là: 1, 2, 4, 71, 142. Tổng của chúng\n",
    "vừa đúng bằng 220\n",
    "Nhập hai số từ bàn phím và kiểm tra xem chúng có phải là cặp số thân thiết không.\n",
    "Nếu có, in ra màn hình \"true\", ngược lại, in ra \"false\"\"\"\n",
    "a, b = map(int, input().split())\n",
    "sum_a = 0\n",
    "sum_b = 0\n",
    "for i in range(1, a):\n",
    "    if a % i == 0:\n",
    "        sum_a += i\n",
    "for j in range(1, b):\n",
    "    if b % j == 0:\n",
    "        sum_b += j\n",
    "if sum_a == b and sum_b == a:\n",
    "    print(\"true\")\n",
    "else:\n",
    "    print(\"false\")"
   ]
  },
  {
   "cell_type": "code",
   "execution_count": 49,
   "id": "ff594458",
   "metadata": {},
   "outputs": [
    {
     "name": "stdout",
     "output_type": "stream",
     "text": [
      "3\n"
     ]
    }
   ],
   "source": [
    "\"\"\"Cho hai số m và n là hai số nguyên dương nhập từ bàn phím. Viết chương trình\n",
    "tìm ước chung lớn nhất của hai số m và n.\"\"\"\n",
    "m, n = map(int, input().split())\n",
    "for i in range(1, min(m, n)+1):\n",
    "    if m % i == 0 and n % i == 0:\n",
    "        gcd = i\n",
    "print(gcd)"
   ]
  },
  {
   "cell_type": "code",
   "execution_count": 53,
   "id": "d84a5237",
   "metadata": {},
   "outputs": [
    {
     "name": "stdout",
     "output_type": "stream",
     "text": [
      "invalid\n"
     ]
    }
   ],
   "source": [
    "\"\"\"[ChickenAndDog]\n",
    "\"Vừa gà vừa chó,\n",
    "Bó lại cho tròn,\n",
    "Ba mươi sáu con,\n",
    "Một trăm chân chẵn\"\n",
    "Từ bài toán dân gian trên, mở rộng thành chương trình nhận đầu vào là tổng số\n",
    "con và tổng số chân của gà và chó. Nếu tìm được số phù hợp, in ra số lượng gà và\n",
    "số lượng chó. Ngược lại, in ra \"invalid\".\"\"\"\n",
    "\n",
    "total_animals, total_legs = map(int, input().split())\n",
    "found = False\n",
    "for chickens in range(total_animals + 1):\n",
    "    dogs = total_animals - chickens\n",
    "    if 2 * chickens + 4 * dogs == total_legs:\n",
    "        print(f\"Chickens: {chickens}, Dogs: {dogs}\")\n",
    "        found = True\n",
    "        break\n",
    "if not found:\n",
    "    print(\"invalid\")\n"
   ]
  },
  {
   "cell_type": "code",
   "execution_count": null,
   "id": "08855698",
   "metadata": {},
   "outputs": [
    {
     "name": "stdout",
     "output_type": "stream",
     "text": [
      "12\n"
     ]
    }
   ],
   "source": [
    "# Nhap vao mot so nguyen (am hoac duong) n\n",
    "# Tinh tong cac chu so chan co mat trong n\n",
    "# -1223243478: 22\n",
    "# 123456: 12\n",
    "n = int(input(\"nhap vao so nguyen n\"))\n",
    "n = abs(n)\n",
    "sum = 0\n",
    "for _ in range(10000):\n",
    "    digit = n % 10\n",
    "    if digit % 2 == 0:\n",
    "        sum += digit\n",
    "    n //= 10\n",
    "    if n == 0:\n",
    "        break\n",
    "print(sum)\n",
    "\n"
   ]
  }
 ],
 "metadata": {
  "kernelspec": {
   "display_name": ".venv",
   "language": "python",
   "name": "python3"
  },
  "language_info": {
   "codemirror_mode": {
    "name": "ipython",
    "version": 3
   },
   "file_extension": ".py",
   "mimetype": "text/x-python",
   "name": "python",
   "nbconvert_exporter": "python",
   "pygments_lexer": "ipython3",
   "version": "3.13.7"
  }
 },
 "nbformat": 4,
 "nbformat_minor": 5
}
