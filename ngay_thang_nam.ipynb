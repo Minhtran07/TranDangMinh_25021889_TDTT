{
 "cells": [
  {
   "cell_type": "code",
   "execution_count": null,
   "id": "d250c42d",
   "metadata": {},
   "outputs": [],
   "source": [
    "day, month, year = map(int, input().split())\n",
    "if month < 1 or month > 12 or year < 1900 or year > 2025:\n",
    "    print(\"invalid\")\n",
    "else:\n",
    "    if month in [1, 3, 5, 7, 8, 10, 12]:\n",
    "        max_day = 31\n",
    "    elif month in [4, 6, 9, 11]:\n",
    "        max_day = 30\n",
    "    elif month == 2:\n",
    "        if (year % 4 == 0 and year % 100 != 0) or (year % 400 == 0):\n",
    "            max_day = 29\n",
    "        else:\n",
    "            max_day = 28\n",
    "    if day < 1 or day > max_day:\n",
    "        print(\"invalid\")\n",
    "    else:\n",
    "        print(\"valid\")\n",
    "        "
   ]
  }
 ],
 "metadata": {
  "language_info": {
   "name": "python"
  }
 },
 "nbformat": 4,
 "nbformat_minor": 5
}
