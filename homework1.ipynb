{
 "cells": [
  {
   "cell_type": "code",
   "execution_count": null,
   "id": "initial_id",
   "metadata": {
    "collapsed": true,
    "jupyter": {
     "outputs_hidden": true
    }
   },
   "outputs": [],
   "source": [
    "\n",
    "n = int(input())\n",
    "print(n*2)"
   ]
  },
  {
   "cell_type": "code",
   "execution_count": null,
   "id": "94ff5064544243a7",
   "metadata": {},
   "outputs": [],
   "source": [
    "a,b = map(int,input().split())\n",
    "\n",
    "s_hcn = a*b\n",
    "s_kvc = (a**2) * 3.14\n",
    "print(s_hcn - s_kvc)"
   ]
  },
  {
   "cell_type": "code",
   "execution_count": 2,
   "id": "b00550cd214e9723",
   "metadata": {
    "ExecuteTime": {
     "end_time": "2025-09-22T09:52:15.551931Z",
     "start_time": "2025-09-22T09:52:13.566906Z"
    }
   },
   "outputs": [
    {
     "name": "stdout",
     "output_type": "stream",
     "text": [
      "C\n"
     ]
    }
   ],
   "source": [
    "c = input()\n",
    "if len(c) == 1:\n",
    "    if c.isupper():\n",
    "        print(c.lower())\n",
    "    elif c.islower():\n",
    "        print(c.upper())\n",
    "    else:\n",
    "        print(\"error\")\n",
    "else:\n",
    "    print(\"only one character allowed\")"
   ]
  },
  {
   "cell_type": "code",
   "execution_count": null,
   "id": "fb7e80f12969a5bc",
   "metadata": {},
   "outputs": [],
   "source": [
    "c = input()\n",
    "if len(c) == 1:\n",
    "    if c.isalpha():\n",
    "        print(f\"{c} is an alphabetic character\")\n",
    "    else:\n",
    "        print(f\"{c} is not an alphabetic character\")\n",
    "else:\n",
    "    print(\"only one character allowed\")"
   ]
  },
  {
   "cell_type": "code",
   "execution_count": null,
   "id": "493a84509b1d4d26",
   "metadata": {},
   "outputs": [],
   "source": [
    "c = input()\n",
    "\n",
    "if len(c) == 1 and c.islower():\n",
    "    if c == \"A\":\n",
    "        print(\"a\")\n",
    "    else:\n",
    "        char = c.lower()\n",
    "        prev_char = chr(ord(char) - 1)\n",
    "        print(prev_char)\n",
    "else:\n",
    "    print(\"only one character allowed\")\n",
    "\n",
    "\n"
   ]
  },
  {
   "cell_type": "code",
   "execution_count": null,
   "id": "94616973a8f31a60",
   "metadata": {},
   "outputs": [],
   "source": [
    "a = float(input())\n",
    "b = float(input())\n",
    "c = float(input())\n",
    "\n",
    "if a + b > c and a + c > b and b + c > a:\n",
    "    p = (a + b + c) / 2\n",
    "    area = (p * (p - a) * (p - b) * (p - c)) ** 0.5\n",
    "    print(f\"{area:.1f}\")\n",
    "else:\n",
    "    print(\"Khong phai 3 canh cua tam giac\")"
   ]
  },
  {
   "cell_type": "code",
   "execution_count": null,
   "id": "631d6d1c0c13fd93",
   "metadata": {},
   "outputs": [],
   "source": [
    "n = input()\n",
    "if len(n) >= 20 and n.islower():\n",
    "    char_5 = n[5]\n",
    "    char_9 = n[9]\n",
    "    print(char_5, char_9)\n"
   ]
  },
  {
   "cell_type": "code",
   "execution_count": 2,
   "id": "b5a387a7a85e9a",
   "metadata": {
    "ExecuteTime": {
     "end_time": "2025-09-22T10:47:57.161440Z",
     "start_time": "2025-09-22T10:47:36.326942Z"
    }
   },
   "outputs": [
    {
     "name": "stdout",
     "output_type": "stream",
     "text": [
      "Ten chu ho:  minj\n",
      "Chi so thang truoc:  1000\n",
      "Chi so thang nay:  1900\n"
     ]
    },
    {
     "name": "stdout",
     "output_type": "stream",
     "text": [
      "Ho va ten:minj\n",
      "tien phai tra la 1162603\n"
     ]
    }
   ],
   "source": [
    "def calculate_electricity_bill():\n",
    "    prices = [[0, 50, 1984], [51, 100, 2050], [101, 200, 2380], [201, 300, 2998], [301, 400, 3350],\n",
    "              [401, float('inf'), 3460]]\n",
    "\n",
    "    cus_name = input(\"Ten chu ho: \")\n",
    "    prev_month = int(input(\"Chi so thang truoc: \"))\n",
    "    current_month = int(input(\"Chi so thang nay: \"))\n",
    "\n",
    "    kwh_consume = current_month - prev_month\n",
    "    total_cost = 0\n",
    "    remaining_kwh = kwh_consume\n",
    "    for min_kwh, max_kwh, price in prices:\n",
    "        if max_kwh == float('inf'):\n",
    "            kwh_in_tier = remaining_kwh\n",
    "            break\n",
    "        else:\n",
    "            kwh_in_tier = min(remaining_kwh, max_kwh - min_kwh + 1)\n",
    "            total_cost += kwh_in_tier * price\n",
    "            remaining_kwh -= kwh_in_tier\n",
    "    vat_amount = total_cost * 0.08\n",
    "    final_amount = vat_amount + total_cost\n",
    "\n",
    "    print(f\"Ho va ten:{cus_name}\")\n",
    "    print(f\"tien phai tra la {final_amount:.0f}\")\n",
    "\n",
    "\n",
    "calculate_electricity_bill()\n"
   ]
  },
  {
   "cell_type": "code",
   "execution_count": 3,
   "id": "a3dd2e57-e6a3-4165-a6f4-1aded9b17322",
   "metadata": {},
   "outputs": [
    {
     "name": "stdout",
     "output_type": "stream",
     "text": [
      " 21\n"
     ]
    },
    {
     "name": "stdout",
     "output_type": "stream",
     "text": [
      "le\n"
     ]
    }
   ],
   "source": [
    "n = int(input())\n",
    "if n % 2 == 0:\n",
    "    print(\"chan\")\n",
    "else:\n",
    "    print(\"le\")\n",
    "    "
   ]
  },
  {
   "cell_type": "code",
   "execution_count": 7,
   "id": "de3ab684-4a08-49f5-b309-2c4d69b08e8e",
   "metadata": {},
   "outputs": [
    {
     "name": "stdout",
     "output_type": "stream",
     "text": [
      " 20\n"
     ]
    },
    {
     "name": "stdout",
     "output_type": "stream",
     "text": [
      "False\n"
     ]
    }
   ],
   "source": [
    "n = int(input())\n",
    "if n%5 == 0 and n%10 == 5:\n",
    "    print(True)\n",
    "else:\n",
    "    print(False)"
   ]
  },
  {
   "cell_type": "code",
   "execution_count": 9,
   "id": "d0b563f4-19c6-42d6-b3ad-203f8e84ecca",
   "metadata": {},
   "outputs": [
    {
     "name": "stdout",
     "output_type": "stream",
     "text": [
      " 12\n"
     ]
    },
    {
     "name": "stdout",
     "output_type": "stream",
     "text": [
      "False\n"
     ]
    }
   ],
   "source": [
    "n = int(input())\n",
    "if n%5 == 0 and n%3 == 0:\n",
    "    print(True)\n",
    "else:\n",
    "    print(False)"
   ]
  },
  {
   "cell_type": "code",
   "execution_count": 10,
   "id": "b699ba73-7a97-47ec-96fa-eba828ecd2bc",
   "metadata": {},
   "outputs": [
    {
     "name": "stdout",
     "output_type": "stream",
     "text": [
      " 12\n"
     ]
    },
    {
     "name": "stdout",
     "output_type": "stream",
     "text": [
      "khong du tuoi\n"
     ]
    }
   ],
   "source": [
    "age = int(input())\n",
    "if age >= 18:\n",
    "    print(\"du tuoi\")\n",
    "else:\n",
    "    print(\"khong du tuoi\")"
   ]
  },
  {
   "cell_type": "code",
   "execution_count": 12,
   "id": "49cf6cdf-3070-4d3f-bcf0-118a443cf6d5",
   "metadata": {},
   "outputs": [
    {
     "name": "stdout",
     "output_type": "stream",
     "text": [
      " 14 12\n"
     ]
    },
    {
     "name": "stdout",
     "output_type": "stream",
     "text": [
      "14\n"
     ]
    }
   ],
   "source": [
    "a,b = map(int, input().split())\n",
    "if a == b:\n",
    "    print(f\"{a} = {b}\")\n",
    "elif a>b:\n",
    "    print(a)\n",
    "else:\n",
    "    print(b)"
   ]
  },
  {
   "cell_type": "code",
   "execution_count": 17,
   "id": "51d9d181-69d8-4c5e-9339-f0cbd0fa6666",
   "metadata": {
    "ExecuteTime": {
     "end_time": "2025-09-22T11:03:06.416650Z",
     "start_time": "2025-09-22T11:03:03.959189Z"
    }
   },
   "outputs": [
    {
     "name": "stdout",
     "output_type": "stream",
     "text": [
      "av is an alphabetic character\n"
     ]
    }
   ],
   "source": [
    "c = input()\n",
    "\n",
    "if c.isalpha():\n",
    "    print(f\"{c} is an alphabetic character\")\n",
    "elif c.isnumeric():\n",
    "    print(f\"{c} is an numeric character\")"
   ]
  },
  {
   "cell_type": "code",
   "execution_count": 2,
   "id": "8dbdcf7f",
   "metadata": {},
   "outputs": [
    {
     "name": "stdout",
     "output_type": "stream",
     "text": [
      "nhap lai\n",
      "yeu\n"
     ]
    }
   ],
   "source": [
    "while True:\n",
    "    n = int(input())\n",
    "    if 0<= n <=10:\n",
    "        if n >=8.5:\n",
    "            print(\"tot\")\n",
    "        elif n >=6.5:\n",
    "            print(\"kha\")\n",
    "        elif n >=5:\n",
    "            print(\"trung binh\")\n",
    "        else:\n",
    "            print(\"yeu\")\n",
    "        break\n",
    "    else:\n",
    "        print(\"nhap lai\")"
   ]
  },
  {
   "cell_type": "code",
   "execution_count": 3,
   "id": "6a729483",
   "metadata": {},
   "outputs": [
    {
     "name": "stdout",
     "output_type": "stream",
     "text": [
      "400 la nam nhuan\n"
     ]
    }
   ],
   "source": [
    "year = int(input())\n",
    "if (year % 4 == 0 and year % 100 != 0) or (year % 400 == 0):\n",
    "    print(f\"{year} la nam nhuan\")\n",
    "else:\n",
    "    print(f\"{year} khong phai nam nhuan\")"
   ]
  },
  {
   "cell_type": "code",
   "execution_count": 1,
   "id": "7324debd",
   "metadata": {},
   "outputs": [
    {
     "name": "stdout",
     "output_type": "stream",
     "text": [
      "18\n"
     ]
    }
   ],
   "source": [
    "current_year =  2025\n",
    "year_born = int(input())\n",
    "age = current_year - year_born\n",
    "print(age)"
   ]
  },
  {
   "cell_type": "code",
   "execution_count": 3,
   "id": "07462bbe",
   "metadata": {
    "ExecuteTime": {
     "end_time": "2025-09-25T06:01:47.236506Z",
     "start_time": "2025-09-25T06:01:39.866778Z"
    }
   },
   "outputs": [
    {
     "name": "stdout",
     "output_type": "stream",
     "text": [
      "valid\n"
     ]
    }
   ],
   "source": [
    "day, month, year = map(int, input().split(\"/\"))\n",
    "if month < 1 or month > 12 or year < 1900 or year > 2025:\n",
    "    print(\"invalid\")\n",
    "else:\n",
    "    if month in [1, 3, 5, 7, 8, 10, 12]:\n",
    "        max_day = 31\n",
    "    elif month in [4, 6, 9, 11]:\n",
    "        max_day = 30\n",
    "    elif month == 2:\n",
    "        if (year % 4 == 0 and year % 100 != 0) or (year % 400 == 0):\n",
    "            max_day = 29\n",
    "        else:\n",
    "            max_day = 28\n",
    "    if day < 1 or day > max_day:\n",
    "        print(\"invalid\")\n",
    "    else:\n",
    "        print(\"valid\")\n"
   ]
  },
  {
   "cell_type": "code",
   "execution_count": 1,
   "id": "466b3482",
   "metadata": {},
   "outputs": [],
   "source": [
    "#ghihihihihi"
   ]
  }
 ],
 "metadata": {
  "kernelspec": {
   "display_name": ".venv",
   "language": "python",
   "name": "python3"
  },
  "language_info": {
   "codemirror_mode": {
    "name": "ipython",
    "version": 3
   },
   "file_extension": ".py",
   "mimetype": "text/x-python",
   "name": "python",
   "nbconvert_exporter": "python",
   "pygments_lexer": "ipython3",
   "version": "3.13.7"
  }
 },
 "nbformat": 4,
 "nbformat_minor": 5
}
